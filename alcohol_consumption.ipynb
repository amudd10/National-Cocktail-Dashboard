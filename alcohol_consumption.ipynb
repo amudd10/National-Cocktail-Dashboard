{
 "cells": [
  {
   "cell_type": "code",
   "execution_count": 6,
   "id": "a6a2153a",
   "metadata": {},
   "outputs": [],
   "source": [
    "import pandas as pd"
   ]
  },
  {
   "cell_type": "code",
   "execution_count": 30,
   "id": "4ab92238",
   "metadata": {},
   "outputs": [],
   "source": [
    "consumption_df_2016 = pd.read_csv(\"Resources/Alcohol_Consumption_US.csv\")\n",
    "year_df_2016 = consumption_df[consumption_df[\"Year\"] == 2016]\n",
    "\n",
    "consumption_df_2015 = pd.read_csv(\"Resources/Alcohol_Consumption_US.csv\")\n",
    "year_df_2015 = consumption_df[consumption_df[\"Year\"] == 2015]\n",
    "\n",
    "consumption_df_2014 = pd.read_csv(\"Resources/Alcohol_Consumption_US.csv\")\n",
    "year_df_2014 = consumption_df[consumption_df[\"Year\"] == 2014]\n",
    "\n",
    "consumption_df_2013 = pd.read_csv(\"Resources/Alcohol_Consumption_US.csv\")\n",
    "year_df_2013 = consumption_df[consumption_df[\"Year\"] == 2013]\n",
    "\n",
    "consumption_df_2012 = pd.read_csv(\"Resources/Alcohol_Consumption_US.csv\")\n",
    "year_df_2012 = consumption_df[consumption_df[\"Year\"] == 2012]\n",
    "\n",
    "consumption_df_2011 = pd.read_csv(\"Resources/Alcohol_Consumption_US.csv\")\n",
    "year_df_2011 = consumption_df[consumption_df[\"Year\"] == 2011]\n"
   ]
  },
  {
   "cell_type": "code",
   "execution_count": 31,
   "id": "427e8f82",
   "metadata": {},
   "outputs": [],
   "source": [
    "year_2016_clean = pd.DataFrame({\"State\": year_df_2016[\"State\"], \"Beer (Per capita consumption)\": year_df_2016[\"Beer (Per capita consumption)\"], \"Wine (Per capita consumption)\": year_df_2016[\"Beer (Per capita consumption)\"], \"Spirits (Per capita consumption)\": year_df_2016[\"Spirits (Per capita consumption)\"], \"All beverages (Per capita consumption)\": year_df_2016[\"All beverages (Per capita consumption)\"]})\n",
    "year_2016_clean.to_csv(\"year_2016_clean.csv\", index = False)\n",
    "\n",
    "year_2015_clean = pd.DataFrame({\"State\": year_df_2015[\"State\"], \"Beer (Per capita consumption)\": year_df_2015[\"Beer (Per capita consumption)\"], \"Wine (Per capita consumption)\": year_df_2015[\"Beer (Per capita consumption)\"], \"Spirits (Per capita consumption)\": year_df_2015[\"Spirits (Per capita consumption)\"], \"All beverages (Per capita consumption)\": year_df_2015[\"All beverages (Per capita consumption)\"]})\n",
    "year_2015_clean.to_csv(\"year_2015_clean.csv\", index = False)\n",
    "\n",
    "year_2014_clean = pd.DataFrame({\"State\": year_df_2014[\"State\"], \"Beer (Per capita consumption)\": year_df_2014[\"Beer (Per capita consumption)\"], \"Wine (Per capita consumption)\": year_df_2014[\"Beer (Per capita consumption)\"], \"Spirits (Per capita consumption)\": year_df_2014[\"Spirits (Per capita consumption)\"], \"All beverages (Per capita consumption)\": year_df_2014[\"All beverages (Per capita consumption)\"]})\n",
    "year_2014_clean.to_csv(\"year_2014_clean.csv\", index = False)\n",
    "\n",
    "year_2013_clean = pd.DataFrame({\"State\": year_df_2013[\"State\"], \"Beer (Per capita consumption)\": year_df_2013[\"Beer (Per capita consumption)\"], \"Wine (Per capita consumption)\": year_df_2013[\"Beer (Per capita consumption)\"], \"Spirits (Per capita consumption)\": year_df_2013[\"Spirits (Per capita consumption)\"], \"All beverages (Per capita consumption)\": year_df_2013[\"All beverages (Per capita consumption)\"]})\n",
    "year_2013_clean.to_csv(\"year_2013_clean.csv\", index = False)\n",
    "\n",
    "year_2012_clean = pd.DataFrame({\"State\": year_df_2012[\"State\"], \"Beer (Per capita consumption)\": year_df_2012[\"Beer (Per capita consumption)\"], \"Wine (Per capita consumption)\": year_df_2012[\"Beer (Per capita consumption)\"], \"Spirits (Per capita consumption)\": year_df_2012[\"Spirits (Per capita consumption)\"], \"All beverages (Per capita consumption)\": year_df_2012[\"All beverages (Per capita consumption)\"]})\n",
    "year_2012_clean.to_csv(\"year_2012_clean.csv\", index = False)\n",
    "\n",
    "year_2011_clean = pd.DataFrame({\"State\": year_df_2011[\"State\"], \"Beer (Per capita consumption)\": year_df_2011[\"Beer (Per capita consumption)\"], \"Wine (Per capita consumption)\": year_df_2011[\"Beer (Per capita consumption)\"], \"Spirits (Per capita consumption)\": year_df_2011[\"Spirits (Per capita consumption)\"], \"All beverages (Per capita consumption)\": year_df_2011[\"All beverages (Per capita consumption)\"]})\n",
    "year_2011_clean.to_csv(\"year_2011_clean.csv\", index = False)\n",
    "\n",
    "\n",
    "\n",
    "                                                                                     \n",
    "                                                                                     \n",
    "                                                                                     \n",
    "                                                                                     "
   ]
  },
  {
   "cell_type": "code",
   "execution_count": 32,
   "id": "606e3dc5",
   "metadata": {},
   "outputs": [],
   "source": [
    "consumption_2016_clean = pd.read_csv(\"year_2016_clean.csv\").set_index(\"State\")\n",
    "consumption_2015_clean = pd.read_csv(\"year_2015_clean.csv\").set_index(\"State\")\n",
    "consumption_2014_clean = pd.read_csv(\"year_2014_clean.csv\").set_index(\"State\")\n",
    "consumption_2013_clean = pd.read_csv(\"year_2013_clean.csv\").set_index(\"State\")\n",
    "consumption_2012_clean = pd.read_csv(\"year_2012_clean.csv\").set_index(\"State\")\n",
    "consumption_2011_clean = pd.read_csv(\"year_2011_clean.csv\").set_index(\"State\")\n"
   ]
  },
  {
   "cell_type": "code",
   "execution_count": 33,
   "id": "6c819b11",
   "metadata": {},
   "outputs": [],
   "source": [
    "consumption_2016_clean.to_json(\"consumption_2016_clean.json\")\n",
    "consumption_2015_clean.to_json(\"consumption_2015_clean.json\")\n",
    "consumption_2014_clean.to_json(\"consumption_2014_clean.json\")\n",
    "consumption_2013_clean.to_json(\"consumption_2013_clean.json\")\n",
    "consumption_2012_clean.to_json(\"consumption_2012_clean.json\")\n",
    "consumption_2011_clean.to_json(\"consumption_2011_clean.json\")\n"
   ]
  },
  {
   "cell_type": "code",
   "execution_count": null,
   "id": "f6cb3b4b",
   "metadata": {},
   "outputs": [],
   "source": []
  }
 ],
 "metadata": {
  "kernelspec": {
   "display_name": "Python 3 (ipykernel)",
   "language": "python",
   "name": "python3"
  },
  "language_info": {
   "codemirror_mode": {
    "name": "ipython",
    "version": 3
   },
   "file_extension": ".py",
   "mimetype": "text/x-python",
   "name": "python",
   "nbconvert_exporter": "python",
   "pygments_lexer": "ipython3",
   "version": "3.10.4"
  }
 },
 "nbformat": 4,
 "nbformat_minor": 5
}
